{
 "cells": [
  {
   "cell_type": "markdown",
   "source": [
    "how to setup elastic-search:\r\n",
    "- docker run -d -p 9200:9200 -p 9300:9300 -e \"discovery.type=single-node\" docker.elastic.co/elasticsearch/elasticsearch:7.14.0"
   ],
   "metadata": {}
  },
  {
   "cell_type": "code",
   "execution_count": 2,
   "source": [
    "import json\r\n",
    "import requests"
   ],
   "outputs": [],
   "metadata": {
    "collapsed": true
   }
  },
  {
   "cell_type": "code",
   "execution_count": 3,
   "source": [
    "def extract(json_path: str):\r\n",
    "    with open(json_path, 'r') as f:\r\n",
    "        return json.loads(f.read())"
   ],
   "outputs": [],
   "metadata": {
    "collapsed": false,
    "pycharm": {
     "name": "#%%\n"
    }
   }
  },
  {
   "cell_type": "code",
   "execution_count": 4,
   "source": [
    "def reindex(analysisSettings={}, mappingSettings={}, movieDict={}):\r\n",
    "    settings = {\r\n",
    "        \"settings\" : {\r\n",
    "            \"index\" : {\r\n",
    "                \"number_of_shards\" : 1,\r\n",
    "                \"number_of_replicas\" : 0\r\n",
    "            }\r\n",
    "        }\r\n",
    "    }\r\n",
    "\r\n",
    "    if analysisSettings:\r\n",
    "        settings['analysis'] = analysisSettings\r\n",
    "\r\n",
    "    if mappingSettings:\r\n",
    "        settings['mappings'] = mappingSettings\r\n",
    "\r\n",
    "    resp = requests.delete(\"http://localhost:9200/tmdb\")\r\n",
    "\r\n",
    "    put_headers = {'Content-Type': 'application/json'}\r\n",
    "    resp = requests.put(\"http://localhost:9200/tmdb\",\r\n",
    "                        data=json.dumps(settings), headers=put_headers)\r\n",
    "\r\n",
    "    bulkMovies = \"\"\r\n",
    "\r\n",
    "    for _, movie in movieDict.items():\r\n",
    "        addCmd = {\"index\": {\"_index\": \"tmdb\",\r\n",
    "                            \"_id\": movie[\"id\"]}}\r\n",
    "        bulkMovies += json.dumps(addCmd) + \"\\n\" + json.dumps(movie) + \"\\n\"\r\n",
    "\r\n",
    "\r\n",
    "    headers = {'Content-Type': 'application/x-ndjson'}\r\n",
    "    resp = requests.post(\"http://localhost:9200/_bulk\", headers=headers, data=bulkMovies)\r\n",
    "    return resp\r\n"
   ],
   "outputs": [],
   "metadata": {
    "collapsed": false,
    "pycharm": {
     "name": "#%%\n"
    }
   }
  },
  {
   "cell_type": "code",
   "execution_count": 5,
   "source": [
    "movieDict = extract(\"./tmdb.json\")"
   ],
   "outputs": [],
   "metadata": {
    "collapsed": false,
    "pycharm": {
     "name": "#%%\n"
    }
   }
  },
  {
   "cell_type": "code",
   "execution_count": 6,
   "source": [
    "#\r\n",
    "# read a movie from the movie dictionary\r\n",
    "#\r\n",
    "some_key = list(movieDict.keys())[0]\r\n",
    "print(movieDict[some_key])"
   ],
   "outputs": [
    {
     "output_type": "stream",
     "name": "stdout",
     "text": [
      "{'poster_path': '/mfMndRWFbzXbTx0g3rHUXFAxyOh.jpg', 'production_countries': [{'iso_3166_1': 'US', 'name': 'United States of America'}], 'revenue': 0, 'overview': 'When the FBI hires her to go undercover at a college sorority, Molly Morris (Miley Cyrus) must transform herself from a tough, streetwise private investigator to a refined, sophisticated university girl to help protect the daughter of a one-time Mobster. With several suspects on her list, Molly unexpectedly discovers that not everyone is who they appear to be, including herself.', 'video': False, 'id': 93837, 'genres': [{'id': 28, 'name': 'Action'}, {'id': 35, 'name': 'Comedy'}], 'title': 'So Undercover', 'tagline': \"Meet the FBI's new secret weapon\", 'vote_count': 55, 'homepage': '', 'belongs_to_collection': None, 'original_language': 'en', 'status': 'Released', 'spoken_languages': [{'iso_639_1': 'en', 'name': 'English'}], 'imdb_id': 'tt1766094', 'adult': False, 'backdrop_path': '/o4Tt60z94Hbgk8adeZG9WE4S2im.jpg', 'production_companies': [{'name': 'Exclusive Media Group', 'id': 11448}], 'release_date': '2012-01-01', 'popularity': 0.345124796829192, 'original_title': 'So Undercover', 'budget': 0, 'cast': [{'name': 'Miley Cyrus', 'character': 'Molly', 'id': 76594, 'credit_id': '52fe49419251416c750c21c9', 'cast_id': 10, 'profile_path': '/4cWl6nJTQMexqZFFDfaJucwhqGY.jpg', 'order': 0}, {'name': 'Joshua Bowman', 'character': 'Nicholas', 'id': 139835, 'credit_id': '52fe49419251416c750c21cd', 'cast_id': 11, 'profile_path': '/FOSRcKOJqCZzpFhBCzlEphp5F.jpg', 'order': 1}, {'name': 'Eloise Mumford', 'character': 'Sasha', 'id': 222130, 'credit_id': '52fe49419251416c750c21d1', 'cast_id': 12, 'profile_path': '/6yT9OjHcnG55iGjq7XFvd2qpYT2.jpg', 'order': 2}, {'name': 'Jeremy Piven', 'character': 'Armon', 'id': 12799, 'credit_id': '52fe49419251416c750c21d5', 'cast_id': 13, 'profile_path': '/qtho4ZUcValnVvscTGgyWfUr4VP.jpg', 'order': 3}, {'name': 'Autumn Reeser', 'character': 'Bizzy', 'id': 74607, 'credit_id': '52fe49419251416c750c21d9', 'cast_id': 14, 'profile_path': '/vZlZQkQzQ0PSCnQT77vqEFnYsoO.jpg', 'order': 4}, {'name': 'Alexis Knapp', 'character': 'Taylor', 'id': 999790, 'credit_id': '52fe49419251416c750c21dd', 'cast_id': 15, 'profile_path': '/jhQeoRHhCig8dtJxthKChQmAERQ.jpg', 'order': 5}, {'name': 'Matthew Settle', 'character': 'Professor Talloway', 'id': 33286, 'credit_id': '52fe49419251416c750c21e1', 'cast_id': 16, 'profile_path': '/neODd3vTVEb7TXOWEZC44ZZu1yk.jpg', 'order': 6}, {'name': 'Megan Park', 'character': 'Cotton', 'id': 55615, 'credit_id': '52fe49419251416c750c21e5', 'cast_id': 17, 'profile_path': '/AjIaQKbjMgYcJxalCBM4MGREss0.jpg', 'order': 7}, {'name': \"Mike O'Malley\", 'character': 'Sam', 'id': 87192, 'credit_id': '52fe49419251416c750c21e9', 'cast_id': 18, 'profile_path': '/9VwiKnQySJN7buvCg53v4NB5Tj7.jpg', 'order': 8}, {'name': 'Kelly Osbourne', 'character': 'Becky', 'id': 178425, 'credit_id': '52fe49419251416c750c21ed', 'cast_id': 19, 'profile_path': '/ub2UobCm9Fe4PYWgerPQkdXMSQA.jpg', 'order': 9}, {'name': 'Lauren McKnight', 'character': 'Alex', 'id': 560298, 'credit_id': '52fe49419251416c750c21f1', 'cast_id': 20, 'profile_path': None, 'order': 10}], 'directors': [{'name': 'Tom Vaughan', 'department': 'Directing', 'job': 'Director', 'credit_id': '52fe49419251416c750c2195', 'profile_path': '/opDMR3lConDBNSiVmqt4h6TMFBF.jpg', 'id': 56717}], 'vote_average': 5.9, 'runtime': 94}\n"
     ]
    }
   ],
   "metadata": {
    "collapsed": false,
    "pycharm": {
     "name": "#%%\n"
    }
   }
  },
  {
   "cell_type": "code",
   "execution_count": 7,
   "source": [
    "#\r\n",
    "# index the entire movie dictionary\r\n",
    "#\r\n",
    "reindex(movieDict=movieDict)"
   ],
   "outputs": [
    {
     "output_type": "execute_result",
     "data": {
      "text/plain": [
       "<Response [200]>"
      ]
     },
     "metadata": {},
     "execution_count": 7
    }
   ],
   "metadata": {
    "collapsed": false,
    "pycharm": {
     "name": "#%%\n"
    }
   }
  },
  {
   "cell_type": "code",
   "execution_count": 8,
   "source": [
    "#\r\n",
    "# function to query a movie, and return the top 10 query matches\r\n",
    "#\r\n",
    "def search(query):\r\n",
    "    url = \"http://localhost:9200/tmdb/_search\"\r\n",
    "    headers = {'Content-Type': 'application/json'}\r\n",
    "    httpResp = requests.get(url, data=json.dumps(query), headers=headers)\r\n",
    "    searchHits = json.loads(httpResp.text)['hits']\r\n",
    "    print(\"Relevance Score\")\r\n",
    "    for idx, hit in enumerate(searchHits['hits']):\r\n",
    "        relev_score = hit['_score']\r\n",
    "        movie_title = hit['_source']['title']\r\n",
    "        print(f\"Num:{idx+1}\\tRelevance Score:{relev_score}\\tMovie Title:{movie_title}\")"
   ],
   "outputs": [],
   "metadata": {
    "collapsed": false,
    "pycharm": {
     "name": "#%%\n"
    }
   }
  },
  {
   "cell_type": "code",
   "execution_count": 9,
   "source": [
    "#\r\n",
    "# let's try to search for a movie \"basketball with cartoon aliens\"\r\n",
    "# \r\n",
    "usersSearch = 'basketball with cartoon aliens'\r\n",
    "query = {\r\n",
    "    \"query\": {\r\n",
    "        \"multi_match\": {\r\n",
    "            \"query\": usersSearch,\r\n",
    "            \"fields\": [\"title^10\", \"overview\"]\r\n",
    "        }\r\n",
    "    }\r\n",
    "}\r\n",
    "search(query)"
   ],
   "outputs": [
    {
     "output_type": "stream",
     "name": "stdout",
     "text": [
      "Relevance Score\n",
      "Num:1\tRelevance Score:82.75214\tMovie Title:Aliens\n",
      "Num:2\tRelevance Score:69.15401\tMovie Title:Cowboys & Aliens\n",
      "Num:3\tRelevance Score:67.66199\tMovie Title:The Basketball Diaries\n",
      "Num:4\tRelevance Score:52.04843\tMovie Title:Aliens vs Predator: Requiem\n",
      "Num:5\tRelevance Score:45.524403\tMovie Title:Dances with Wolves\n",
      "Num:6\tRelevance Score:45.524403\tMovie Title:Friends with Benefits\n",
      "Num:7\tRelevance Score:45.524403\tMovie Title:Fire with Fire\n",
      "Num:8\tRelevance Score:39.894062\tMovie Title:Interview with the Vampire\n",
      "Num:9\tRelevance Score:39.894062\tMovie Title:From Russia With Love\n",
      "Num:10\tRelevance Score:39.894062\tMovie Title:Gone with the Wind\n"
     ]
    }
   ],
   "metadata": {
    "collapsed": false,
    "pycharm": {
     "name": "#%%\n"
    }
   }
  },
  {
   "cell_type": "code",
   "execution_count": 10,
   "source": [
    "#\r\n",
    "# looking at the query results, you notice that some of these movies don't make sense being in the top 10 for that query\r\n",
    "# "
   ],
   "outputs": [],
   "metadata": {}
  },
  {
   "cell_type": "code",
   "execution_count": 11,
   "source": [
    "#\r\n",
    "# let's then debug the query, and understand the behavior of elastic when receiving the query\r\n",
    "#\r\n",
    "usersSearch = 'basketball with cartoon aliens'\r\n",
    "query = {\r\n",
    "    \"query\": {\r\n",
    "        \"multi_match\": {\r\n",
    "            \"query\": usersSearch,\r\n",
    "            \"fields\": [\"title^10\", \"overview\"]\r\n",
    "        }\r\n",
    "    }\r\n",
    "}\r\n",
    "headers = {'Content-Type': 'application/json'}\r\n",
    "httpResp = requests.get(\"http://localhost:9200/tmdb/_validate/query?explain\", data=json.dumps(query), headers=headers)\r\n",
    "\r\n",
    "print(json.loads(httpResp.text))"
   ],
   "outputs": [
    {
     "output_type": "stream",
     "name": "stdout",
     "text": [
      "{'_shards': {'total': 1, 'successful': 1, 'failed': 0}, 'valid': True, 'explanations': [{'index': 'tmdb', 'valid': True, 'explanation': '((overview:basketball overview:with overview:cartoon overview:aliens) | (title:basketball title:with title:cartoon title:aliens)^10.0)'}]}\n"
     ]
    }
   ],
   "metadata": {}
  },
  {
   "cell_type": "code",
   "execution_count": 12,
   "source": [
    "# Here the returned explanation field (in bold) lists what you’re interested in.\r\n",
    "# ((overview:basketball overview:with overview:cartoon overview:aliens) | (title:basketball title:with title:cartoon title:aliens)^10.0)"
   ],
   "outputs": [],
   "metadata": {}
  },
  {
   "cell_type": "code",
   "execution_count": 13,
   "source": [
    "#\r\n",
    "# let's continue debugging, and see how my query is tokenized\r\n",
    "#\r\n",
    "headers = {'Content-Type': 'application/json'}\r\n",
    "query = {\"text\": \"Fire with Fire\"}\r\n",
    "httpResp = requests.get(\"http://localhost:9200/tmdb/_analyze?format=yaml\", data=json.dumps(query), headers=headers)\r\n",
    "print(httpResp.text)"
   ],
   "outputs": [
    {
     "output_type": "stream",
     "name": "stdout",
     "text": [
      "---\n",
      "tokens:\n",
      "- token: \"fire\"\n",
      "  start_offset: 0\n",
      "  end_offset: 4\n",
      "  type: \"<ALPHANUM>\"\n",
      "  position: 0\n",
      "- token: \"with\"\n",
      "  start_offset: 5\n",
      "  end_offset: 9\n",
      "  type: \"<ALPHANUM>\"\n",
      "  position: 1\n",
      "- token: \"fire\"\n",
      "  start_offset: 10\n",
      "  end_offset: 14\n",
      "  type: \"<ALPHANUM>\"\n",
      "  position: 2\n",
      "\n"
     ]
    }
   ],
   "metadata": {}
  },
  {
   "cell_type": "markdown",
   "source": [
    "the results is three entries in the token stream, showing the extracted properties of a token\r\n",
    "start/end offsets indicate where the token exists in the source text\r\n",
    "position indicates term ordering, distance, and adjency\r\n",
    "\r\n",
    "In this token stream, you extract three tokens: fire, with, and fire. Notice how the text has been tokenized by whitespace and lowercased?"
   ],
   "metadata": {}
  },
  {
   "cell_type": "code",
   "execution_count": 14,
   "source": [
    "#\r\n",
    "# let's continue debugging, and see how my query is tokenized\r\n",
    "#\r\n",
    "headers = {'Content-Type': 'application/json'}\r\n",
    "query = {\"text\": \"Fire with Fire\", \"analyzer\": \"english\"}\r\n",
    "httpResp = requests.get(\"http://localhost:9200/tmdb/_analyze?format=yaml\", data=json.dumps(query), headers=headers)\r\n",
    "print(httpResp.text)"
   ],
   "outputs": [
    {
     "output_type": "stream",
     "name": "stdout",
     "text": [
      "---\n",
      "tokens:\n",
      "- token: \"fire\"\n",
      "  start_offset: 0\n",
      "  end_offset: 4\n",
      "  type: \"<ALPHANUM>\"\n",
      "  position: 0\n",
      "- token: \"fire\"\n",
      "  start_offset: 10\n",
      "  end_offset: 14\n",
      "  type: \"<ALPHANUM>\"\n",
      "  position: 2\n",
      "\n"
     ]
    }
   ],
   "metadata": {}
  },
  {
   "cell_type": "code",
   "execution_count": 15,
   "source": [
    "mappingSettings = {\r\n",
    "    'properties': {\r\n",
    "        'title': { #A\r\n",
    "            'type': 'text',\r\n",
    "            'analyzer': 'english'\r\n",
    "        },\r\n",
    "        'overview': {\r\n",
    "                'type': 'text',\r\n",
    "                'analyzer': 'english'\r\n",
    "            }\r\n",
    "    }\r\n",
    "}\r\n",
    "reindex(mappingSettings=mappingSettings, movieDict=movieDict)"
   ],
   "outputs": [
    {
     "output_type": "execute_result",
     "data": {
      "text/plain": [
       "<Response [200]>"
      ]
     },
     "metadata": {},
     "execution_count": 15
    }
   ],
   "metadata": {}
  },
  {
   "cell_type": "markdown",
   "source": [
    "Notice the removal of \"with\" in this token stream"
   ],
   "metadata": {}
  },
  {
   "cell_type": "code",
   "execution_count": 16,
   "source": [
    "usersSearch = 'basketball with cartoon aliens'\r\n",
    "query = {\r\n",
    "    \"query\": {\r\n",
    "        \"multi_match\": {\r\n",
    "            \"query\": usersSearch,\r\n",
    "            \"fields\": [\"title^10\", \"overview\"]\r\n",
    "        }\r\n",
    "    }\r\n",
    "}\r\n",
    "search(query)"
   ],
   "outputs": [
    {
     "output_type": "stream",
     "name": "stdout",
     "text": [
      "Relevance Score\n",
      "Num:1\tRelevance Score:72.222855\tMovie Title:Alien\n",
      "Num:2\tRelevance Score:72.222855\tMovie Title:Aliens\n",
      "Num:3\tRelevance Score:58.34751\tMovie Title:Cowboys & Aliens\n",
      "Num:4\tRelevance Score:42.15139\tMovie Title:Aliens vs Predator: Requiem\n",
      "Num:5\tRelevance Score:6.7331104\tMovie Title:The Flintstones\n",
      "Num:6\tRelevance Score:6.713963\tMovie Title:White Men Can't Jump\n",
      "Num:7\tRelevance Score:5.738433\tMovie Title:The Thing\n",
      "Num:8\tRelevance Score:5.394642\tMovie Title:Bedazzled\n",
      "Num:9\tRelevance Score:5.285317\tMovie Title:High School Musical\n",
      "Num:10\tRelevance Score:5.2432656\tMovie Title:Independence Day\n"
     ]
    }
   ],
   "metadata": {}
  },
  {
   "cell_type": "code",
   "execution_count": 17,
   "source": [
    "#\r\n",
    "# Debugging ranking\r\n",
    "#\r\n",
    "usersSearch = 'basketball with cartoon aliens'\r\n",
    "query = {\r\n",
    "    \"explain\": True,\r\n",
    "    \"query\": {\r\n",
    "        \"multi_match\": {\r\n",
    "            \"query\": usersSearch,\r\n",
    "            \"fields\": [\"title^10\", \"overview\"]\r\n",
    "        }\r\n",
    "    }\r\n",
    "}\r\n",
    "url = \"http://localhost:9200/tmdb/_search\"\r\n",
    "headers = {'Content-Type': 'application/json'}\r\n",
    "httpResp = requests.get(url, data=json.dumps(query), headers=headers)\r\n",
    "print\r\n",
    "searchHits = json.loads(httpResp.text)['hits']['hits'][0]\r\n",
    "print(f\"Explain for {str(searchHits['_source']['title'])}\")\r\n",
    "print(f\"Explain for {json.dumps(searchHits['_explanation'], indent=4, sort_keys=True)}\")"
   ],
   "outputs": [
    {
     "output_type": "stream",
     "name": "stdout",
     "text": [
      "Explain for Alien\n",
      "Explain for {\n",
      "    \"description\": \"max of:\",\n",
      "    \"details\": [\n",
      "        {\n",
      "            \"description\": \"sum of:\",\n",
      "            \"details\": [\n",
      "                {\n",
      "                    \"description\": \"weight(overview:alien in 229) [PerFieldSimilarity], result of:\",\n",
      "                    \"details\": [\n",
      "                        {\n",
      "                            \"description\": \"score(freq=1.0), computed as boost * idf * tf from:\",\n",
      "                            \"details\": [\n",
      "                                {\n",
      "                                    \"description\": \"boost\",\n",
      "                                    \"details\": [],\n",
      "                                    \"value\": 2.2\n",
      "                                },\n",
      "                                {\n",
      "                                    \"description\": \"idf, computed as log(1 + (N - n + 0.5) / (n + 0.5)) from:\",\n",
      "                                    \"details\": [\n",
      "                                        {\n",
      "                                            \"description\": \"n, number of documents containing term\",\n",
      "                                            \"details\": [],\n",
      "                                            \"value\": 21\n",
      "                                        },\n",
      "                                        {\n",
      "                                            \"description\": \"N, total number of documents with field\",\n",
      "                                            \"details\": [],\n",
      "                                            \"value\": 1214\n",
      "                                        }\n",
      "                                    ],\n",
      "                                    \"value\": 4.0344462\n",
      "                                },\n",
      "                                {\n",
      "                                    \"description\": \"tf, computed as freq / (freq + k1 * (1 - b + b * dl / avgdl)) from:\",\n",
      "                                    \"details\": [\n",
      "                                        {\n",
      "                                            \"description\": \"freq, occurrences of term within document\",\n",
      "                                            \"details\": [],\n",
      "                                            \"value\": 1.0\n",
      "                                        },\n",
      "                                        {\n",
      "                                            \"description\": \"k1, term saturation parameter\",\n",
      "                                            \"details\": [],\n",
      "                                            \"value\": 1.2\n",
      "                                        },\n",
      "                                        {\n",
      "                                            \"description\": \"b, length normalization parameter\",\n",
      "                                            \"details\": [],\n",
      "                                            \"value\": 0.75\n",
      "                                        },\n",
      "                                        {\n",
      "                                            \"description\": \"dl, length of field (approximate)\",\n",
      "                                            \"details\": [],\n",
      "                                            \"value\": 48.0\n",
      "                                        },\n",
      "                                        {\n",
      "                                            \"description\": \"avgdl, average length of field\",\n",
      "                                            \"details\": [],\n",
      "                                            \"value\": 36.47776\n",
      "                                        }\n",
      "                                    ],\n",
      "                                    \"value\": 0.4025306\n",
      "                                }\n",
      "                            ],\n",
      "                            \"value\": 3.572774\n",
      "                        }\n",
      "                    ],\n",
      "                    \"value\": 3.572774\n",
      "                }\n",
      "            ],\n",
      "            \"value\": 3.572774\n",
      "        },\n",
      "        {\n",
      "            \"description\": \"sum of:\",\n",
      "            \"details\": [\n",
      "                {\n",
      "                    \"description\": \"weight(title:alien in 229) [PerFieldSimilarity], result of:\",\n",
      "                    \"details\": [\n",
      "                        {\n",
      "                            \"description\": \"score(freq=1.0), computed as boost * idf * tf from:\",\n",
      "                            \"details\": [\n",
      "                                {\n",
      "                                    \"description\": \"boost\",\n",
      "                                    \"details\": [],\n",
      "                                    \"value\": 22.0\n",
      "                                },\n",
      "                                {\n",
      "                                    \"description\": \"idf, computed as log(1 + (N - n + 0.5) / (n + 0.5)) from:\",\n",
      "                                    \"details\": [\n",
      "                                        {\n",
      "                                            \"description\": \"n, number of documents containing term\",\n",
      "                                            \"details\": [],\n",
      "                                            \"value\": 4\n",
      "                                        },\n",
      "                                        {\n",
      "                                            \"description\": \"N, total number of documents with field\",\n",
      "                                            \"details\": [],\n",
      "                                            \"value\": 1215\n",
      "                                        }\n",
      "                                    ],\n",
      "                                    \"value\": 5.5992446\n",
      "                                },\n",
      "                                {\n",
      "                                    \"description\": \"tf, computed as freq / (freq + k1 * (1 - b + b * dl / avgdl)) from:\",\n",
      "                                    \"details\": [\n",
      "                                        {\n",
      "                                            \"description\": \"freq, occurrences of term within document\",\n",
      "                                            \"details\": [],\n",
      "                                            \"value\": 1.0\n",
      "                                        },\n",
      "                                        {\n",
      "                                            \"description\": \"k1, term saturation parameter\",\n",
      "                                            \"details\": [],\n",
      "                                            \"value\": 1.2\n",
      "                                        },\n",
      "                                        {\n",
      "                                            \"description\": \"b, length normalization parameter\",\n",
      "                                            \"details\": [],\n",
      "                                            \"value\": 0.75\n",
      "                                        },\n",
      "                                        {\n",
      "                                            \"description\": \"dl, length of field\",\n",
      "                                            \"details\": [],\n",
      "                                            \"value\": 1.0\n",
      "                                        },\n",
      "                                        {\n",
      "                                            \"description\": \"avgdl, average length of field\",\n",
      "                                            \"details\": [],\n",
      "                                            \"value\": 2.21893\n",
      "                                        }\n",
      "                                    ],\n",
      "                                    \"value\": 0.5863036\n",
      "                                }\n",
      "                            ],\n",
      "                            \"value\": 72.222855\n",
      "                        }\n",
      "                    ],\n",
      "                    \"value\": 72.222855\n",
      "                }\n",
      "            ],\n",
      "            \"value\": 72.222855\n",
      "        }\n",
      "    ],\n",
      "    \"value\": 72.222855\n",
      "}\n"
     ]
    }
   ],
   "metadata": {}
  },
  {
   "cell_type": "code",
   "execution_count": 18,
   "source": [
    "usersSearch = 'basketball with cartoon aliens'\r\n",
    "query = {\r\n",
    "    \"query\": {\r\n",
    "        \"multi_match\": {\r\n",
    "            \"query\": usersSearch,\r\n",
    "            \"fields\": [\"title^0.1\", \"overview\"]\r\n",
    "        }\r\n",
    "    }\r\n",
    "}\r\n",
    "search(query)"
   ],
   "outputs": [
    {
     "output_type": "stream",
     "name": "stdout",
     "text": [
      "Relevance Score\n",
      "Num:1\tRelevance Score:6.7331104\tMovie Title:The Flintstones\n",
      "Num:2\tRelevance Score:6.713963\tMovie Title:White Men Can't Jump\n",
      "Num:3\tRelevance Score:6.24872\tMovie Title:Aliens vs Predator: Requiem\n",
      "Num:4\tRelevance Score:5.738433\tMovie Title:The Thing\n",
      "Num:5\tRelevance Score:5.394642\tMovie Title:Bedazzled\n",
      "Num:6\tRelevance Score:5.285317\tMovie Title:High School Musical\n",
      "Num:7\tRelevance Score:5.2432656\tMovie Title:Independence Day\n",
      "Num:8\tRelevance Score:5.145266\tMovie Title:The X Files\n",
      "Num:9\tRelevance Score:4.8164744\tMovie Title:The Day the Earth Stood Still\n",
      "Num:10\tRelevance Score:4.695741\tMovie Title:Star Trek IV: The Voyage Home\n"
     ]
    }
   ],
   "metadata": {}
  }
 ],
 "metadata": {
  "kernelspec": {
   "name": "python3",
   "display_name": "Python 3.7.3 64-bit ('venv': venv)"
  },
  "language_info": {
   "name": "python",
   "version": "3.7.3",
   "mimetype": "text/x-python",
   "codemirror_mode": {
    "name": "ipython",
    "version": 3
   },
   "pygments_lexer": "ipython3",
   "nbconvert_exporter": "python",
   "file_extension": ".py"
  },
  "interpreter": {
   "hash": "3b6a415071633116e2e2b2eed7029459986b10e8dc017fa734e82badf45a643e"
  }
 },
 "nbformat": 4,
 "nbformat_minor": 2
}